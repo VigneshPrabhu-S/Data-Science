{
 "cells": [
  {
   "cell_type": "markdown",
   "metadata": {},
   "source": [
    "### The questions for the exercises are given above the cells and the expected output is given below the cell. Please type the code inserting a new cell below the question because if you run the expected output cell the output would vanish! Happy learning! "
   ]
  },
  {
   "cell_type": "markdown",
   "metadata": {},
   "source": [
    "## Exercise Question 1: Given an input list removes the element at index 4 and add it to the 2nd position and also, at the end of the list"
   ]
  },
  {
   "cell_type": "code",
   "execution_count": null,
   "metadata": {},
   "outputs": [],
   "source": []
  },
  {
   "cell_type": "code",
   "execution_count": 19,
   "metadata": {},
   "outputs": [
    {
     "data": {
      "text/plain": [
       "[34, 54, 11, 67, 89, 43, 94, 11]"
      ]
     },
     "execution_count": 19,
     "metadata": {},
     "output_type": "execute_result"
    }
   ],
   "source": [
    "list_a = [34, 54, 67, 89, 11, 43, 94]\n",
    "#List pop removes the values based on index vale provided in our case it is 11 and \n",
    "#List Insert funcction is used to insert an record based on index and the records will shift right based on the index \n",
    "# in our case the value  11 which is poped out will be loaded to position 2 and the existing records will shift right\n",
    "#Original list  [34, 54, 67, 89, 11, 43, 94]\n",
    "#List After removing element at index 4  [34, 54, 67, 89, 43, 94]\n",
    "#List after Adding element at index 2  [34, 54, 11, 67, 89, 43, 94]\n",
    "list_a.insert(2,list_a.pop(4))\n",
    "# List append is used to add an element towards the end of the list and the List after Adding element at last  [34, 54, 11, 67, 89, 43, 94, 11]\n",
    "list_a.append(list_a[2])\n",
    "list_a"
   ]
  },
  {
   "cell_type": "markdown",
   "metadata": {},
   "source": [
    "## Exercise Question 2: Given a Python list you should be able to display Python list in the following order"
   ]
  },
  {
   "cell_type": "code",
   "execution_count": 26,
   "metadata": {},
   "outputs": [
    {
     "data": {
      "text/plain": [
       "[500, 400, 300, 200, 100]"
      ]
     },
     "execution_count": 26,
     "metadata": {},
     "output_type": "execute_result"
    }
   ],
   "source": [
    "py_list=[100, 200, 300, 400, 500]\n",
    "# Using list Slicing and -1 as shown below will reverse the list \n",
    "py_list[::-1]"
   ]
  },
  {
   "cell_type": "markdown",
   "metadata": {},
   "source": [
    "## Exercise Question 3: Concatenate (join) two lists in the following order\n"
   ]
  },
  {
   "cell_type": "code",
   "execution_count": 29,
   "metadata": {},
   "outputs": [
    {
     "data": {
      "text/plain": [
       "['Hello ', 'take ', 'Dear', 'Sir']"
      ]
     },
     "execution_count": 29,
     "metadata": {},
     "output_type": "execute_result"
    }
   ],
   "source": [
    "list_a=['Hello ', 'take ']\n",
    "list_b=['Dear', 'Sir']\n",
    "# using + operator will concatenate two lists\n",
    "list_c = list_a+list_b\n",
    "list_c"
   ]
  },
  {
   "cell_type": "markdown",
   "metadata": {},
   "source": [
    "## Exercise Question 4: Add item 7000 after 6000 in the following Python List"
   ]
  },
  {
   "cell_type": "code",
   "execution_count": 48,
   "metadata": {},
   "outputs": [
    {
     "data": {
      "text/plain": [
       "[10, 20, [300, 400, [5000, 6000, 7000], 500], 30, 40]"
      ]
     },
     "execution_count": 48,
     "metadata": {},
     "output_type": "execute_result"
    }
   ],
   "source": [
    "list_a=[10, 20, [300, 400, [5000, 6000], 500], 30, 40]\n",
    "#above list consists of multiple nested lists with in list to acces the inner list we must use the index of outer list and then to access the inner most list we must use the inner List's index poistion\n",
    "# inner list position based on outer it is 2 and the inner most list poistion based on inner list is 2 as well , \n",
    "# Hence used the position [2][2] and insert function to add an element based on index position\n",
    "# in Insrt we must specify the position the record needs to be added and the value to be added sperated by a comma after position as shown below\n",
    "list_a[2][2].insert(2,7000)\n",
    "list_a"
   ]
  },
  {
   "cell_type": "markdown",
   "metadata": {},
   "source": [
    "## Exercise Question 5: Given a nested list extend it with adding sub list [\"h\", \"i\", \"j\"] in a such a way that it will look like the"
   ]
  },
  {
   "cell_type": "code",
   "execution_count": 21,
   "metadata": {},
   "outputs": [
    {
     "data": {
      "text/plain": [
       "['a', 'b', ['c', ['d', 'e', ['f', 'g', 'h', 'i', 'j'], 'k'], 'l'], 'm', 'n']"
      ]
     },
     "execution_count": 21,
     "metadata": {},
     "output_type": "execute_result"
    }
   ],
   "source": [
    "list_a =['a', 'b', ['c', ['d', 'e', ['f', 'g'], 'k'], 'l'], 'm', 'n']\n",
    "#above list consists of multiple nested lists with in list to acces the inner list we must use the index of outer list and then to access the inner most list we must use the inner List's index poistion\n",
    "# inner list position based on outer it is 2 and the inner most list poistion based on inner list is 1 and the final list psoitsion where the value needs to be externded based on inner most list is 2 as well , \n",
    "# Hence used the position [2][1][2] and extend function to add list b elements into list a based on index position\n",
    "# if we use append the values will be stored with [] like this ['a', 'b', ['c', ['d', 'e', ['f', 'g', ['h', 'i', 'j']], 'k'], 'l'], 'm', 'n']\n",
    "# to avodi that and extend the list we must use extend function\n",
    "list_b =['h', 'i', 'j']\n",
    "list_a[2][1][2].extend(list_b)\n",
    "#list_a[2][1][2].append(list_b) -- not to be used to extend\n",
    "list_a"
   ]
  },
  {
   "cell_type": "markdown",
   "metadata": {},
   "source": [
    "## Exercise Question 6: Given a Python list, find value 20 in the list, and if it is present, replace it with 200. Only update the first occurrence of a value"
   ]
  },
  {
   "cell_type": "code",
   "execution_count": 66,
   "metadata": {
    "scrolled": true
   },
   "outputs": [
    {
     "name": "stdout",
     "output_type": "stream",
     "text": [
      "this is executed\n",
      "Exit\n",
      "2\n"
     ]
    },
    {
     "data": {
      "text/plain": [
       "[5, 10, 15, 200, 25, 50, 20]"
      ]
     },
     "execution_count": 66,
     "metadata": {},
     "output_type": "execute_result"
    }
   ],
   "source": [
    "list_a=[5, 10, 15, 20, 25, 50, 20]\n",
    "#List Count function will return the number of time the specified value in paranthesis is repeated in the list \n",
    "list_a.count(20)\n",
    "#since we need to replace the first occurence of the value 20 and it is repeated twice in above list i i have set a to 1 \n",
    "a=1\n",
    "# since count of list returns int value as output i have used it as a condition check for us to replace the first occurence\n",
    "if a<=list_a.count(20):#since 1 is less than 2 the loops will be processed\n",
    "    #print(\"this is executed\")\n",
    "    b=list_a.index(20) #here  i am storing the index value of the first time 20 is found in list which is 3\n",
    "    list_a[b]=200 # using the list index to set the value to 200 which will rpelace the 20 in that position\n",
    "#print(\"Exit\")\n",
    "a=a+1 #Increasing the value of 1 and the loop will fail and exit , it done to prevent updating any other occurence of number 20\n",
    "print(a)  #list_a\n",
    "list_a # output should have replaced the first 20 to 200 in list\n",
    "\n",
    "\n",
    "\n"
   ]
  },
  {
   "cell_type": "markdown",
   "metadata": {},
   "source": [
    "# Write a Students Grade Checker\n",
    "A -> Grade if the score greater or equal 90 B -> The mark is between 70(inclusive) and 90(not inclusive) C -> if the score is otherwise input -> 1) 90 2) 75 3) 65 Output -> 1) A 2) B 3) C\n",
    "\n",
    "and - & or - | not - ~\n"
   ]
  },
  {
   "cell_type": "code",
   "execution_count": 2,
   "metadata": {},
   "outputs": [
    {
     "name": "stdout",
     "output_type": "stream",
     "text": [
      "90\n",
      "Grade is A\n"
     ]
    }
   ],
   "source": [
    "##grade clasifier\n",
    "score = input()\n",
    "if score >= '90':\n",
    "    print(\"Grade is A\")\n",
    "elif score>='70' and score<'90':\n",
    "    print(\"Grade is B\")\n",
    "else:\n",
    "    print(\"Grade is C\")"
   ]
  },
  {
   "cell_type": "code",
   "execution_count": null,
   "metadata": {},
   "outputs": [],
   "source": []
  }
 ],
 "metadata": {
  "kernelspec": {
   "display_name": "Python 3",
   "language": "python",
   "name": "python3"
  },
  "language_info": {
   "codemirror_mode": {
    "name": "ipython",
    "version": 3
   },
   "file_extension": ".py",
   "mimetype": "text/x-python",
   "name": "python",
   "nbconvert_exporter": "python",
   "pygments_lexer": "ipython3",
   "version": "3.8.5"
  }
 },
 "nbformat": 4,
 "nbformat_minor": 4
}
