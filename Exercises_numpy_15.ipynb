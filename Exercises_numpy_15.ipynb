{
 "cells": [
  {
   "cell_type": "markdown",
   "metadata": {},
   "source": [
    "## Exercise 1: NumPy: Create an array with values ranging from 50 to 100"
   ]
  },
  {
   "cell_type": "code",
   "execution_count": 75,
   "metadata": {},
   "outputs": [],
   "source": [
    "import numpy as np \n",
    "import time\n",
    "import sys \n"
   ]
  },
  {
   "cell_type": "code",
   "execution_count": 46,
   "metadata": {},
   "outputs": [
    {
     "data": {
      "text/plain": [
       "array([50, 51, 52, 53, 54, 55, 56, 57, 58, 59, 60, 61, 62, 63, 64, 65, 66,\n",
       "       67, 68, 69, 70, 71, 72, 73, 74, 75, 76, 77, 78, 79, 80, 81, 82, 83,\n",
       "       84, 85, 86, 87, 88, 89, 90, 91, 92, 93, 94, 95, 96, 97, 98, 99])"
      ]
     },
     "execution_count": 46,
     "metadata": {},
     "output_type": "execute_result"
    }
   ],
   "source": [
    "arr=np.arange(50,100)\n",
    "arr"
   ]
  },
  {
   "cell_type": "markdown",
   "metadata": {},
   "source": [
    "## Exercise 2: Add a border around an existing array\n",
    "##### Hint: np.pad()"
   ]
  },
  {
   "cell_type": "code",
   "execution_count": 25,
   "metadata": {},
   "outputs": [
    {
     "name": "stdout",
     "output_type": "stream",
     "text": [
      "Original array:\n",
      " [[1. 1. 1.]\n",
      " [1. 1. 1.]\n",
      " [1. 1. 1.]]\n",
      "0 on the border and 1 inside in the array:\n",
      " [[0. 0. 0. 0. 0.]\n",
      " [0. 1. 1. 1. 0.]\n",
      " [0. 1. 1. 1. 0.]\n",
      " [0. 1. 1. 1. 0.]\n",
      " [0. 0. 0. 0. 0.]]\n"
     ]
    }
   ],
   "source": [
    "arr=np.ones((3,3))\n",
    "print(\"Original array:\\n\",arr)\n",
    "arr=np.pad(arr,1)\n",
    "print(\"0 on the border and 1 inside in the array:\\n\",arr)"
   ]
  },
  {
   "cell_type": "code",
   "execution_count": 2,
   "metadata": {},
   "outputs": [
    {
     "name": "stdout",
     "output_type": "stream",
     "text": [
      "Original array:\n",
      "[[1. 1. 1.]\n",
      " [1. 1. 1.]\n",
      " [1. 1. 1.]]\n",
      "0 on the border and 1 inside in the array\n",
      "[[0. 0. 0. 0. 0.]\n",
      " [0. 1. 1. 1. 0.]\n",
      " [0. 1. 1. 1. 0.]\n",
      " [0. 1. 1. 1. 0.]\n",
      " [0. 0. 0. 0. 0.]]\n"
     ]
    }
   ],
   "source": []
  },
  {
   "cell_type": "markdown",
   "metadata": {},
   "source": [
    "## Exercise 3: Convert a list and tuple into arrays"
   ]
  },
  {
   "cell_type": "code",
   "execution_count": 54,
   "metadata": {
    "scrolled": true
   },
   "outputs": [
    {
     "name": "stdout",
     "output_type": "stream",
     "text": [
      "List values are : [1, 2, 3, 4, 5, 6, 7, 8]\n",
      "Tuple values are : (1, 2, 3, 4, 5, 6)\n",
      "list converted to array is: [8 7 6 5 4 3 2 1]\n",
      "Tuple converetd to array is: [[6 5 4]\n",
      " [3 2 1]]\n"
     ]
    }
   ],
   "source": [
    "lst=[1,2,3,4,5,6,7,8]\n",
    "print(\"List values are :\",lst)\n",
    "tup=tuple(range(1,7))\n",
    "print(\"Tuple values are :\",tup)\n",
    "arr1=np.array(lst[::-1])\n",
    "print(\"list converted to array is:\",arr1)\n",
    "arr2=np.array(tup[::-1]).reshape(2,3)\n",
    "print(\"Tuple converetd to array is:\",arr2)"
   ]
  },
  {
   "cell_type": "markdown",
   "metadata": {},
   "source": [
    "## Also try np.asarray for the problem above! "
   ]
  },
  {
   "cell_type": "code",
   "execution_count": 66,
   "metadata": {},
   "outputs": [
    {
     "name": "stdout",
     "output_type": "stream",
     "text": [
      "List values are : [1, 2, 3, 4, 5, 6, 7, 8]\n",
      "Tuple values are : (1, 2, 3, 4, 5, 6)\n",
      "Output of list to array using asarray is: [1 2 3 4 5 6 7 8]\n",
      "Output of list to array using asarray is: [[6 5 4]\n",
      " [3 2 1]]\n"
     ]
    }
   ],
   "source": [
    "lst=[1,2,3,4,5,6,7,8]\n",
    "print(\"List values are :\",lst)\n",
    "tup=tuple(range(1,7))\n",
    "print(\"Tuple values are :\",tup)\n",
    "arr1=np.asarray(lst)\n",
    "print(\"Output of list to array using asarray is:\",arr1)\n",
    "arr1=np.asarray(tup[::-1]).reshape(2,3)\n",
    "print(\"Output of list to array using asarray is:\",arr1)\n"
   ]
  },
  {
   "cell_type": "markdown",
   "metadata": {},
   "source": [
    "## Exercise 4:  Convert the values of Centigrade degrees into Fahrenheit degrees"
   ]
  },
  {
   "cell_type": "code",
   "execution_count": 98,
   "metadata": {
    "scrolled": true
   },
   "outputs": [
    {
     "name": "stdout",
     "output_type": "stream",
     "text": [
      "Values in centigrades are: [-17.77777778 -11.11111111   7.33888889   1.11111111  37.72777778]\n",
      "Values in Fahnrenheit are: ['-0.00' '12.00' '45.21' '34.00' '99.91']\n"
     ]
    }
   ],
   "source": [
    "lst_c=[-17.77777778,-11.11111111,7.33888889,1.11111111,37.72777778]\n",
    "lst_f=[]\n",
    "for i in range(0,5):\n",
    "    ##lst_c.append(input(\"Please enter centigrades to be converted into Fahrenheit degrees:\"))\n",
    "    lst_f.append(float((lst_c[i])/(5/9))+32)\n",
    "    lst_f[i] =\"%.2f\" % lst_f[i]\n",
    "print(\"Values in centigrades degrees are:\",np.asarray(lst_c))\n",
    "print(\"Values in Fahnrenheit degrees are:\",np.asarray(lst_f))\n"
   ]
  },
  {
   "cell_type": "markdown",
   "metadata": {},
   "source": [
    "## Exercise 5: Write a NumPy program to find the number of elements of an array, length of one array element in bytes and total bytes consumed by the elements. "
   ]
  },
  {
   "cell_type": "code",
   "execution_count": 22,
   "metadata": {},
   "outputs": [],
   "source": [
    "arr=np.array([2,3,46])\n"
   ]
  },
  {
   "cell_type": "code",
   "execution_count": 25,
   "metadata": {},
   "outputs": [
    {
     "name": "stdout",
     "output_type": "stream",
     "text": [
      "Size of the array:  3\n",
      "Length of one array element in bytes:  4\n",
      "Total bytes consumed by the elements of the array:  12\n"
     ]
    }
   ],
   "source": [
    "print(\"Size of the array: \", arr.size)\n",
    "print(\"Length of one array element in bytes: \", arr.itemsize)\n",
    "print(\"Total bytes consumed by the elements of the array: \", arr.nbytes)"
   ]
  },
  {
   "cell_type": "markdown",
   "metadata": {},
   "source": [
    "## Exercise 6: Get the unique elements of an array"
   ]
  },
  {
   "cell_type": "code",
   "execution_count": 101,
   "metadata": {},
   "outputs": [
    {
     "name": "stdout",
     "output_type": "stream",
     "text": [
      "List values are : [10, 10, 20, 20, 30, 30]\n",
      "Original array is: [10 10 20 20 30 30]\n",
      "Unique elements of the above array: [10 20 30]\n",
      "Original array is:\n",
      " [[1 1]\n",
      " [2 3]]\n",
      "Unique elements of the above array: [1 2 3]\n"
     ]
    }
   ],
   "source": [
    "lst=[10,10,20,20,30,30]\n",
    "print(\"List values are :\",lst)\n",
    "arr1=np.array(lst[:])\n",
    "print(\"Original array is:\",arr1)\n",
    "for i in range(len(arr1)):\n",
    "    if len(arr1)>i:#if we don't specify it will throw index out of bound exception ( index 3 is out of bounds for axis 0 with size 3 after deleting last duplicte the arr1 len will educe to 3 nd it will come inside loop and will have this error)\n",
    "        #print(i,len(arr1))\n",
    "        #print(np.count_nonzero(arr1==arr1[i]))#since its an numpy array we can use the count_nonzero function\n",
    "        #print(arr1[i],arr1)\n",
    "        if np.count_nonzero(arr1==arr1[i]) >= 2:\n",
    "            arr1=np.delete(arr1,i)#since its a numpy array , normal array functions like pop and remove wont be available\n",
    "print(\"Unique elements of the above array:\",arr1)\n",
    "\n",
    "##Second Array\n",
    "arr2=np.array([1,1,2,3])\n",
    "arr2=arr2.reshape(2,2)\n",
    "print(\"Original array is:\\n\",arr2)\n",
    "for i in range(len(arr2)):\n",
    "    if len(arr2)>i:\n",
    "        if np.count_nonzero(arr2==arr2[i]) >= 2:\n",
    "            arr2=np.delete(arr2,i)\n",
    "print(\"Unique elements of the above array:\",arr2)      \n",
    "    \n"
   ]
  },
  {
   "cell_type": "markdown",
   "metadata": {},
   "source": [
    "## Exercise 7: Change the dimension of an array\n"
   ]
  },
  {
   "cell_type": "code",
   "execution_count": 106,
   "metadata": {},
   "outputs": [
    {
     "name": "stdout",
     "output_type": "stream",
     "text": [
      "Original array is:\n",
      " [1 2 3 4 5 6 7 8 9]\n",
      "Change array shape to (3, 3) -> 3 rows and 3 columns :\n",
      " [[1 2 3]\n",
      " [4 5 6]\n",
      " [7 8 9]]\n"
     ]
    }
   ],
   "source": [
    "arr=np.arange(1,10)\n",
    "print(\"Original array is:\\n\",arr)\n",
    "print(\"Change array shape to (3, 3) -> 3 rows and 3 columns :\\n\",arr.reshape(3,3))"
   ]
  },
  {
   "cell_type": "markdown",
   "metadata": {},
   "source": [
    "## Exercise 8: Create a 1-D array of 30 evenly spaced elements between 2.5. and 6.5, inclusive"
   ]
  },
  {
   "cell_type": "code",
   "execution_count": 108,
   "metadata": {},
   "outputs": [
    {
     "name": "stdout",
     "output_type": "stream",
     "text": [
      "[2.5        2.63793103 2.77586207 2.9137931  3.05172414 3.18965517\n",
      " 3.32758621 3.46551724 3.60344828 3.74137931 3.87931034 4.01724138\n",
      " 4.15517241 4.29310345 4.43103448 4.56896552 4.70689655 4.84482759\n",
      " 4.98275862 5.12068966 5.25862069 5.39655172 5.53448276 5.67241379\n",
      " 5.81034483 5.94827586 6.0862069  6.22413793 6.36206897 6.5       ]\n"
     ]
    }
   ],
   "source": [
    "arr=np.linspace(2.5,6.5,num=30)\n",
    "print(arr)"
   ]
  },
  {
   "cell_type": "markdown",
   "metadata": {},
   "source": [
    "## Exercise 9: Convert 1-D arrays as columns into a 2-D array"
   ]
  },
  {
   "cell_type": "code",
   "execution_count": 125,
   "metadata": {},
   "outputs": [
    {
     "name": "stdout",
     "output_type": "stream",
     "text": [
      "Array1: [10 20 30]\n",
      "Array2: [40 50 60]\n",
      "Convetred array:\n",
      " [[10 40]\n",
      " [20 50]\n",
      " [30 60]]\n"
     ]
    }
   ],
   "source": [
    "arr1=np.arange(10,31,10)\n",
    "arr2=np.arange(40,61,10)\n",
    "print(\"Array1:\",arr1)\n",
    "print(\"Array2:\",arr2)\n",
    "arr3=np.stack((arr1,arr2),axis = 1)\n",
    "print(\"Converted array:\\n\",arr3)"
   ]
  },
  {
   "cell_type": "markdown",
   "metadata": {},
   "source": [
    "## Exercise 10: Create a 5x5 matrix with row values ranging from 0 to 4"
   ]
  },
  {
   "cell_type": "code",
   "execution_count": 33,
   "metadata": {},
   "outputs": [
    {
     "name": "stdout",
     "output_type": "stream",
     "text": [
      "Original array:\n",
      " [[0. 0. 0. 0. 0.]\n",
      " [0. 0. 0. 0. 0.]\n",
      " [0. 0. 0. 0. 0.]\n",
      " [0. 0. 0. 0. 0.]\n",
      " [0. 0. 0. 0. 0.]]\n",
      "Array Shape: (5, 5)\n",
      "Row values ranging from 0 to 4.\n",
      " [[0. 1. 2. 3. 4.]\n",
      " [0. 1. 2. 3. 4.]\n",
      " [0. 1. 2. 3. 4.]\n",
      " [0. 1. 2. 3. 4.]\n",
      " [0. 1. 2. 3. 4.]]\n"
     ]
    }
   ],
   "source": [
    "arr=np.zeros((5,5))\n",
    "print(\"Original array:\\n\",arr)\n",
    "arr= arr+np.arange(5) # if we give arr = np.arange it will reshape to array of shape and size 5, so we need 5*5 maatrix hence we need to add arr+the range values \n",
    "print(\"Array Shape:\",arr.shape)\n",
    "print(\"Row values ranging from 0 to 4.\\n\",arr)\n"
   ]
  },
  {
   "cell_type": "markdown",
   "metadata": {},
   "source": [
    "## Exercise 11: Sum of all the multiples of 3 or 5 below 100"
   ]
  },
  {
   "cell_type": "code",
   "execution_count": 13,
   "metadata": {},
   "outputs": [
    {
     "name": "stdout",
     "output_type": "stream",
     "text": [
      "list of values that are multiples of 3 or 5 below 100 is :\n",
      " [ 0  3  5  6  9 10 12 15 18 20 21 24 25 27 30 33 35 36 39 40 42 45 48 50\n",
      " 51 54 55 57 60 63 65 66 69 70 72 75 78 80 81 84 85 87 90 93 95 96 99]\n",
      "\n",
      " Sum of all the multiples of 3 or 5 below 100 is  2318\n"
     ]
    }
   ],
   "source": [
    "lst=[]\n",
    "for i in range(0,100):\n",
    "    if (i)%3==0 or (i)%5==0:#if a number is divisible by 3 or 5 must retun zero which means it is multiple of 3 and 5 respectively\n",
    "        lst.append(i)\n",
    "        aa1=np.array(lst)\n",
    "print(\"list of values that are multiples of 3 or 5 below 100 is :\\n\",aa1)\n",
    "print(\"\\n Sum of all the multiples of 3 or 5 below 100 is \",aa1.sum())\n",
    "\n"
   ]
  },
  {
   "cell_type": "markdown",
   "metadata": {},
   "source": [
    "## Exercise 12: Combine a one and a two dimensional array together and display their elements\n",
    "##### Hint : np.nditer()"
   ]
  },
  {
   "cell_type": "code",
   "execution_count": 2,
   "metadata": {},
   "outputs": [
    {
     "name": "stdout",
     "output_type": "stream",
     "text": [
      "0\n",
      "0\n",
      "1\n",
      "1\n",
      "2\n",
      "2\n",
      "3\n",
      "3\n"
     ]
    }
   ],
   "source": [
    "x = np.arange(4)\n",
    "y = np.arange(4)\n",
    "for a, b in np.nditer([x,y]):\n",
    "    print(a)\n",
    "    print(b)"
   ]
  },
  {
   "cell_type": "code",
   "execution_count": 22,
   "metadata": {},
   "outputs": [
    {
     "name": "stdout",
     "output_type": "stream",
     "text": [
      "One dimensional array: [0 1 2 3]\n",
      "Two dimensional array:\n",
      " [[0 1 2 3]\n",
      " [4 5 6 7]]\n",
      "0 : 0\n",
      "1 : 1\n",
      "2 : 2\n",
      "3 : 3\n",
      "0 : 4\n",
      "1 : 5\n",
      "2 : 6\n",
      "3 : 7\n"
     ]
    }
   ],
   "source": [
    "a1=np.arange(4)\n",
    "print(\"One dimensional array:\",a1)\n",
    "a2=np.arange(8).reshape(2,4)\n",
    "print(\"Two dimensional array:\\n\",a2)\n",
    "x = np.arange(8)\n",
    "y = np.arange(8)\n",
    "for x,y in np.nditer([a1,a2]):\n",
    "    print(x,\":\",y)\n",
    "    "
   ]
  },
  {
   "cell_type": "markdown",
   "metadata": {},
   "source": [
    "## Exercise 13: Write a NumPy program to replace all elements of NumPy array that are greater than specified array."
   ]
  },
  {
   "cell_type": "code",
   "execution_count": 102,
   "metadata": {},
   "outputs": [
    {
     "name": "stdout",
     "output_type": "stream",
     "text": [
      "Original array:\n",
      " [[0.42436315 0.48558583 0.32924763]\n",
      " [0.7439979  0.58220701 0.38213418]\n",
      " [0.5097581  0.34528799 0.1563123 ]]\n",
      "\n",
      "Array value greater than .5 is in index  (1, 0) and the value is  0.7439979\n",
      "\n",
      "Array value greater than .5 is in index  (1, 1) and the value is  0.58220701\n",
      "\n",
      "Array value greater than .5 is in index  (2, 0) and the value is  0.5097581\n",
      "\n",
      " Replace all elements of the said array with .5 which are greater than .5 \n",
      " [[0.42436315 0.48558583 0.32924763]\n",
      " [0.5        0.5        0.38213418]\n",
      " [0.5        0.34528799 0.1563123 ]]\n"
     ]
    }
   ],
   "source": [
    "ar= np.array([[0.42436315,0.48558583,0.32924763],[0.7439979,0.58220701,0.38213418],[0.5097581,0.34528799,0.1563123 ]],dtype='float64')\n",
    "print(\"Original array:\\n\",ar)\n",
    "for i in range(0,3):\n",
    "     for j in range (0,3):\n",
    "        ##print(\"array index being referenced is\",i,j,\"and the value is:\",ar[i][j])\n",
    "        if np.any(ar[i][j]>.5):#checking for value within array for values greater than .5\n",
    "            print(\"\\nArray value greater than .5 is in index \",(i,j),\"and the value is \",ar[i][j])\n",
    "            ar[i][j]=.5\n",
    "print(\"\\n Replace all elements of the said array with .5 which are greater than .5 \\n\",ar)\n",
    "   "
   ]
  },
  {
   "cell_type": "markdown",
   "metadata": {},
   "source": [
    "## Exercise 14: Add a new row to an empty numpy array"
   ]
  },
  {
   "cell_type": "code",
   "execution_count": 119,
   "metadata": {},
   "outputs": [
    {
     "name": "stdout",
     "output_type": "stream",
     "text": [
      "Empty Array: []\n",
      "After adding two new arrays: \n",
      " [[10 20 30]\n",
      " [40 50 60]]\n"
     ]
    }
   ],
   "source": [
    "ar=np.array([])\n",
    "print(\"Empty Array:\",ar)\n",
    "ar=np.arange(10,70,10).reshape(2,3)\n",
    "print(\"After adding two new arrays: \\n\",ar)"
   ]
  },
  {
   "cell_type": "markdown",
   "metadata": {},
   "source": [
    "## Exercise 15: Write a NumPy program to join a sequence of arrays along a new axis. "
   ]
  },
  {
   "cell_type": "code",
   "execution_count": 206,
   "metadata": {
    "scrolled": false
   },
   "outputs": [
    {
     "name": "stdout",
     "output_type": "stream",
     "text": [
      "Original array :\n",
      " [1 2 3] \n",
      " [2 3 4]\n",
      "Sequence of arrays along a new axis:\n",
      " [[1 2 3]\n",
      " [2 3 4]]\n",
      "Original arrays:\n",
      " [[1]\n",
      " [2]\n",
      " [3]] \n",
      " \n",
      " [[2]\n",
      " [3]\n",
      " [4]]\n",
      "Sequence of arrays along a new axis:\n",
      " [[1]\n",
      " [2]\n",
      " [3]\n",
      " [2]\n",
      " [3]\n",
      " [4]]\n"
     ]
    }
   ],
   "source": [
    "a1=np.array([1,2,3])\n",
    "a2=np.array([2,3,4])\n",
    "print(\"Original array :\\n\",a1,\"\\n\",a2)\n",
    "ar=np.array([a1,a2])\n",
    "print(\"Sequence of arrays along a new axis:\\n\",ar)\n",
    "#np.swapaxes(ar,0,1)\n",
    "print(\"Original arrays:\\n\",np.vstack(a1),\"\\n \\n\",np.vstack(a2))\n",
    "ar=np.concatenate((a1,a2))\n",
    "print(\"Sequence of arrays along a new axis:\\n\",np.vstack(ar))\n",
    "\n"
   ]
  },
  {
   "cell_type": "markdown",
   "metadata": {},
   "source": []
  },
  {
   "cell_type": "code",
   "execution_count": null,
   "metadata": {},
   "outputs": [],
   "source": []
  }
 ],
 "metadata": {
  "kernelspec": {
   "display_name": "Python 3",
   "language": "python",
   "name": "python3"
  },
  "language_info": {
   "codemirror_mode": {
    "name": "ipython",
    "version": 3
   },
   "file_extension": ".py",
   "mimetype": "text/x-python",
   "name": "python",
   "nbconvert_exporter": "python",
   "pygments_lexer": "ipython3",
   "version": "3.8.5"
  }
 },
 "nbformat": 4,
 "nbformat_minor": 4
}
