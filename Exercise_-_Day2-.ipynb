{
 "cells": [
  {
   "cell_type": "markdown",
   "metadata": {},
   "source": [
    "### The questions for the exercises are given above the cells and the expected output is given below the cell. Please type the code inserting a new cell below the question because if you run the expected output cell the output would vanish! Happy learning! "
   ]
  },
  {
   "cell_type": "markdown",
   "metadata": {},
   "source": [
    "## 1. Write a Python program to count the number of even and odd numbers from a series of numbers."
   ]
  },
  {
   "cell_type": "code",
   "execution_count": 8,
   "metadata": {},
   "outputs": [
    {
     "name": "stdout",
     "output_type": "stream",
     "text": [
      "Number of even numbers : 4\n",
      "Number of odd numbers : 5\n"
     ]
    }
   ],
   "source": [
    "j=0\n",
    "k=0\n",
    "for i in range(1,10): #range includes 1 and end range is excluded 1-9 will be checked\n",
    "# for every value of i, the value is checked to be divisible by 2 or not \n",
    "    if i%2 == 0: # if divisible and reminder is equal to zero then it is even \n",
    "        j=j+1\n",
    "    if i%2 != 0: #if reminder is not equal to zero then odd\n",
    "        k=k+1 \n",
    "print(\"Number of even numbers :\",j)\n",
    "print(\"Number of odd numbers :\",k)\n"
   ]
  },
  {
   "cell_type": "markdown",
   "metadata": {},
   "source": [
    "## 2. Write a Python program to find numbers between 100 and 400 (both included) where each digit of a number is an even number. The numbers obtained should be printed in a comma-separated sequence."
   ]
  },
  {
   "cell_type": "code",
   "execution_count": 13,
   "metadata": {},
   "outputs": [
    {
     "name": "stdout",
     "output_type": "stream",
     "text": [
      "(100, 102, 104, 106, 108, 110, 112, 114, 116, 118, 120, 122, 124, 126, 128, 130, 132, 134, 136, 138, 140, 142, 144, 146, 148, 150, 152, 154, 156, 158, 160, 162, 164, 166, 168, 170, 172, 174, 176, 178, 180, 182, 184, 186, 188, 190, 192, 194, 196, 198, 200, 202, 204, 206, 208, 210, 212, 214, 216, 218, 220, 222, 224, 226, 228, 230, 232, 234, 236, 238, 240, 242, 244, 246, 248, 250, 252, 254, 256, 258, 260, 262, 264, 266, 268, 270, 272, 274, 276, 278, 280, 282, 284, 286, 288, 290, 292, 294, 296, 298, 300, 302, 304, 306, 308, 310, 312, 314, 316, 318, 320, 322, 324, 326, 328, 330, 332, 334, 336, 338, 340, 342, 344, 346, 348, 350, 352, 354, 356, 358, 360, 362, 364, 366, 368, 370, 372, 374, 376, 378, 380, 382, 384, 386, 388, 390, 392, 394, 396, 398, 400)\n"
     ]
    }
   ],
   "source": [
    "value=[]\n",
    "for i in range(100,401,2):\n",
    "    if i%2==0:\n",
    "        value.append(i)\n",
    "tuple_a=tuple(value)\n",
    "type(tuple_a)\n",
    "print(tuple_a)"
   ]
  },
  {
   "cell_type": "markdown",
   "metadata": {},
   "source": [
    "## 3. Write a Python program to calculate a dog's age in dog's years. Go to the editor\n",
    "Note: For the first two years, a dog year is equal to 10.5 human years. After that, each dog year equals 4 human years."
   ]
  },
  {
   "cell_type": "code",
   "execution_count": 29,
   "metadata": {},
   "outputs": [
    {
     "name": "stdout",
     "output_type": "stream",
     "text": [
      "Input age in human years to calculate dog's age:20\n",
      "The dog's age in dog years for the input humar years is : 93\n"
     ]
    }
   ],
   "source": [
    "##print(\"Input age in human years to calculate dog's age in dog's years:\")\n",
    "h_age=float(input(\"Input age in human years to calculate dog's age:\"))\n",
    "if h_age <= 2 :\n",
    "    d_age = int(h_age*10.5)\n",
    "elif h_age > 2:\n",
    "    d_age = int(((h_age-2)*4)+21)\n",
    "print(\"The dog's age in dog years for the input humar years is :\",d_age)"
   ]
  },
  {
   "cell_type": "markdown",
   "metadata": {},
   "source": [
    "## 4. Write a Python function that takes a number as a parameter and check the number is prime or not."
   ]
  },
  {
   "cell_type": "code",
   "execution_count": 48,
   "metadata": {},
   "outputs": [
    {
     "name": "stdout",
     "output_type": "stream",
     "text": [
      "please input a number to check:743\n",
      "The Number 743 is Prime\n"
     ]
    }
   ],
   "source": [
    "prime_check = int(input(\"please input a number to check:\"))\n",
    "if prime_check%2==0 :\n",
    "    print(\"The Number\",prime_check,\"is not Prime\")\n",
    "elif prime_check%2!=0 and prime_check%prime_check==0 and prime_check%1==0:\n",
    "    print(\"The Number\",prime_check,\"is Prime\")"
   ]
  },
  {
   "cell_type": "markdown",
   "metadata": {},
   "source": [
    "## 5. Write a Python function that accepts a string and calculate the number of upper case letters and lower case letters. Go to the editor\n"
   ]
  },
  {
   "cell_type": "code",
   "execution_count": 63,
   "metadata": {},
   "outputs": [
    {
     "name": "stdout",
     "output_type": "stream",
     "text": [
      "Please input a string to check:Inceptz is One of The BeSt Places TO LEarn DataSciEnce\n",
      "No. of Upper case characters : 13\n",
      "No. of Lower case Characters : 32\n",
      "No. of spaces in given Characters : 9\n"
     ]
    }
   ],
   "source": [
    "i=0\n",
    "j=0\n",
    "l=0\n",
    "str_check = str(input(\"Please input a string to check:\"))\n",
    "type(str_check)\n",
    "for k in str_check:\n",
    "    indx = str_check.index(k)\n",
    "    if str_check[indx].isupper():#based on the index and using islower fucntion we can verify if the letter is caps or not if caps we are incrementing i to get full and final value\n",
    "        i=i+1\n",
    "    elif str_check[indx].islower():# instead of islower if we directly use else it will include lower case and space also and wil give wrong output\n",
    "        j=j+1\n",
    "    else:\n",
    "        l=l+1\n",
    "print(\"No. of Upper case characters :\",i)\n",
    "print(\"No. of Lower case Characters :\",j)\n",
    "print(\"No. of spaces in given Characters :\",l)\n"
   ]
  },
  {
   "cell_type": "markdown",
   "metadata": {},
   "source": [
    "## 6. Write a Python program to reverse a string. "
   ]
  },
  {
   "cell_type": "code",
   "execution_count": 70,
   "metadata": {},
   "outputs": [
    {
     "name": "stdout",
     "output_type": "stream",
     "text": [
      "The original string is: 1233erfgg\n",
      "The reversed string: ggfre3321\n"
     ]
    }
   ],
   "source": [
    "str_in = str(input(\"The original string is: \"))\n",
    "print(\"The reversed string:\",str_in[::-1])"
   ]
  },
  {
   "cell_type": "markdown",
   "metadata": {},
   "source": [
    "## 7. Write a Python program to find  the greatest common divisor (gcd) of two integers."
   ]
  },
  {
   "cell_type": "code",
   "execution_count": 1,
   "metadata": {},
   "outputs": [
    {
     "name": "stdout",
     "output_type": "stream",
     "text": [
      "Please input 1st number:12\n",
      "Please input 2nd number:14\n",
      "The GCD of given numbers 12 and 14 is : 2\n"
     ]
    }
   ],
   "source": [
    "x=int(input(\"Please input 1st number:\"))\n",
    "y=int(input(\"Please input 2nd number:\"))\n",
    "type(x)\n",
    "type(y)\n",
    "for i in range(2,100):\n",
    "    if(x%i==0 and y%i==0):\n",
    "        print(\"The GCD of given numbers\",x,\"and\",y,\"is :\",i)\n"
   ]
  },
  {
   "cell_type": "code",
   "execution_count": null,
   "metadata": {},
   "outputs": [],
   "source": []
  },
  {
   "cell_type": "code",
   "execution_count": null,
   "metadata": {},
   "outputs": [],
   "source": []
  }
 ],
 "metadata": {
  "kernelspec": {
   "display_name": "Python 3",
   "language": "python",
   "name": "python3"
  },
  "language_info": {
   "codemirror_mode": {
    "name": "ipython",
    "version": 3
   },
   "file_extension": ".py",
   "mimetype": "text/x-python",
   "name": "python",
   "nbconvert_exporter": "python",
   "pygments_lexer": "ipython3",
   "version": "3.8.5"
  }
 },
 "nbformat": 4,
 "nbformat_minor": 4
}
